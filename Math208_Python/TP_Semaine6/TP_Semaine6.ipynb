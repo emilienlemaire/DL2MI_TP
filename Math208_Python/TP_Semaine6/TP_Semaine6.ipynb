{
 "cells": [
  {
   "cell_type": "markdown",
   "metadata": {},
   "source": [
    "# Feuille de TP4 : Mastermind"
   ]
  },
  {
   "cell_type": "code",
   "execution_count": 1,
   "metadata": {},
   "outputs": [],
   "source": [
    "# Import des modules\n",
    "import numpy as np\n",
    "import numpy.random as rd"
   ]
  },
  {
   "cell_type": "markdown",
   "metadata": {},
   "source": [
    "L'objectif de ce TP est de coder un jeu type Mastermind. Dans ce jeu, l'ordinateur choisit un code aléatoire à 4 chiffres entre 1 et 9 inclus. L'utilisateur doit essayer de deviner ce code, disposant pour cela de 20 tentatives. Dans chaque tentative, l'utilisateur saisit un code à 4 chiffres et l'ordinateur doit lui dire :\n",
    "* combien de ces chiffres sont corrects et à la bonne position, et\n",
    "* combien de ces chiffres sont corrects mais à une mauvaise position.\n",
    "Par exemple, si le code choisi par l'ordinateur est `3123` et l'utilisateur saisit `2134`, l'ordinateur doit lui dire qu'il y a un chiffre à la bonne position (le `1`) et deux chiffres à la mauvaise position (le `2` et le `3`). Si le code choisi par l'ordinateur est `5891` et l'utilisateur saisit `5929`, l'ordinateur doit répondre qu'il y a un chiffre à la bonne position (le `5`) et un chiffre à la mauvaise position (un des `9`). Il s'agit de dire la _quantité_ de chiffres à la bonne ou mauvaise position, mais pas quels sont ces chiffres et leurs positions.\n",
    "\n",
    "Le jeux s'arrête lorsque :\n",
    "* l'utilisateur trouve le code choisi par l'ordinateur,\n",
    "* l'utilisateur n'a plus de tentatives, ou\n",
    "* l'utilisateur tape un code spécial (par exemple, `0000` ou une touche comme `q`) pour sortir du jeu.\n",
    "\n",
    "Nous décomposerons l'implémentation de ce jeu en plusieurs fonctions. N'oubliez pas de les tester au fur et à mesure de leur écriture !"
   ]
  },
  {
   "cell_type": "markdown",
   "metadata": {},
   "source": [
    "## Exercice 1 : Génération du code aléatoire\n",
    "\n",
    "Créer une fonction `code_aleatoire` qui renvoie un tableau de profit `4` dont chaque élément est un chiffre aléatoire entre 1 et 9 inclus. On pourra utiliser la fonction `randint` du module `numpy.random`."
   ]
  },
  {
   "cell_type": "code",
   "execution_count": 2,
   "metadata": {
    "scrolled": true
   },
   "outputs": [
    {
     "name": "stdout",
     "output_type": "stream",
     "text": [
      "Help on built-in function randint:\n",
      "\n",
      "randint(...) method of numpy.random.mtrand.RandomState instance\n",
      "    randint(low, high=None, size=None, dtype='l')\n",
      "    \n",
      "    Return random integers from `low` (inclusive) to `high` (exclusive).\n",
      "    \n",
      "    Return random integers from the \"discrete uniform\" distribution of\n",
      "    the specified dtype in the \"half-open\" interval [`low`, `high`). If\n",
      "    `high` is None (the default), then results are from [0, `low`).\n",
      "    \n",
      "    Parameters\n",
      "    ----------\n",
      "    low : int or array-like of ints\n",
      "        Lowest (signed) integers to be drawn from the distribution (unless\n",
      "        ``high=None``, in which case this parameter is one above the\n",
      "        *highest* such integer).\n",
      "    high : int or array-like of ints, optional\n",
      "        If provided, one above the largest (signed) integer to be drawn\n",
      "        from the distribution (see above for behavior if ``high=None``).\n",
      "        If array-like, must contain integer values\n",
      "    size : int or tuple of ints, optional\n",
      "        Output shape.  If the given shape is, e.g., ``(m, n, k)``, then\n",
      "        ``m * n * k`` samples are drawn.  Default is None, in which case a\n",
      "        single value is returned.\n",
      "    dtype : dtype, optional\n",
      "        Desired dtype of the result. All dtypes are determined by their\n",
      "        name, i.e., 'int64', 'int', etc, so byteorder is not available\n",
      "        and a specific precision may have different C types depending\n",
      "        on the platform. The default value is 'np.int'.\n",
      "    \n",
      "        .. versionadded:: 1.11.0\n",
      "    \n",
      "    Returns\n",
      "    -------\n",
      "    out : int or ndarray of ints\n",
      "        `size`-shaped array of random integers from the appropriate\n",
      "        distribution, or a single such random int if `size` not provided.\n",
      "    \n",
      "    See Also\n",
      "    --------\n",
      "    random.random_integers : similar to `randint`, only for the closed\n",
      "        interval [`low`, `high`], and 1 is the lowest value if `high` is\n",
      "        omitted.\n",
      "    \n",
      "    Examples\n",
      "    --------\n",
      "    >>> np.random.randint(2, size=10)\n",
      "    array([1, 0, 0, 0, 1, 1, 0, 0, 1, 0]) # random\n",
      "    >>> np.random.randint(1, size=10)\n",
      "    array([0, 0, 0, 0, 0, 0, 0, 0, 0, 0])\n",
      "    \n",
      "    Generate a 2 x 4 array of ints between 0 and 4, inclusive:\n",
      "    \n",
      "    >>> np.random.randint(5, size=(2, 4))\n",
      "    array([[4, 0, 2, 1], # random\n",
      "           [3, 2, 2, 0]])\n",
      "    \n",
      "    Generate a 1 x 3 array with 3 different upper bounds\n",
      "    \n",
      "    >>> np.random.randint(1, [3, 5, 10])\n",
      "    array([2, 2, 9]) # random\n",
      "    \n",
      "    Generate a 1 by 3 array with 3 different lower bounds\n",
      "    \n",
      "    >>> np.random.randint([1, 5, 7], 10)\n",
      "    array([9, 8, 7]) # random\n",
      "    \n",
      "    Generate a 2 by 4 array using broadcasting with dtype of uint8\n",
      "    \n",
      "    >>> np.random.randint([1, 3, 5, 7], [[10], [20]], dtype=np.uint8)\n",
      "    array([[ 8,  6,  9,  7], # random\n",
      "           [ 1, 16,  9, 12]], dtype=uint8)\n",
      "\n"
     ]
    }
   ],
   "source": [
    "# Suggestion : regarder d'abord l'aide de rd.randint pour savoir\n",
    "#              quels sont ses arguments et sa valeur de retour.\n",
    "help(rd.randint)"
   ]
  },
  {
   "cell_type": "code",
   "execution_count": 3,
   "metadata": {},
   "outputs": [],
   "source": [
    "def code_aleatoire():\n",
    "    return rd.randint([1, 1, 1, 1], [9, 9, 9, 9])"
   ]
  },
  {
   "cell_type": "markdown",
   "metadata": {},
   "source": [
    "## Exercice 2 : Lecture du code saisi par l'utilisateur\n",
    "\n",
    "Créer une fonction `lire_code` qui demande à l'utilisateur, via la fonction `input`, de saisir un code.\n",
    "\n",
    "La fonction `lire_code` doit tester si le code saisi contient bien 4 chiffres entre 1 et 9 ou s'il s'agit du code spécial pour quitter le programme (`0000`, `q`, ou autre choix). Si ce n'est pas le cas, la fonction doit dire quelle est l'erreur (trop de chiffres, pas assez de chiffres, le code saisi contient un caractère qui n'est pas un chiffre entre 1 et 9) et demander à l'utilisateur de le saisir à nouveau, en répétant jusqu'à ce que l'utilisateur saisisse un code valable ou le code spécial pour quitter.\n",
    "\n",
    "Votre fonction doit renvoyer un tableau de profit `4` avec les chiffres (représentés comme des entiers) du code saisi par l'utilisateur. Dans le cas du code spécial pour quitter, la fonction peut par exemple renvoyer le tableau `[0, 0, 0, 0]` ou une valeur spéciale comme `None`."
   ]
  },
  {
   "cell_type": "code",
   "execution_count": 4,
   "metadata": {},
   "outputs": [],
   "source": [
    "def lire_code():\n",
    "    code = input(\"Rentrez un code ou 'q' pour quitter le jeu: \")\n",
    "    if(code == \"q\"):\n",
    "        return None\n",
    "    else:\n",
    "        if(len(code) > 4 or len(code) < 4):\n",
    "            print(\"Il faut entrer 4 chiffres!!\")\n",
    "            return lire_code()\n",
    "        else:\n",
    "            code_int = 0;\n",
    "            try:\n",
    "                code_int = int(code)\n",
    "            except:\n",
    "                code_int = None\n",
    "            if(code_int):\n",
    "                code_ret = []\n",
    "                for i in range(len(code)):\n",
    "                    code_ret.append(int(code[i]))\n",
    "                return code_ret\n",
    "            else:\n",
    "                print(\"Veuillez rentrez seulement des chiffres\")\n",
    "                return lire_code()"
   ]
  },
  {
   "cell_type": "markdown",
   "metadata": {},
   "source": [
    "## Exercice 3 : Comparaison des codes\n",
    "\n",
    "Écrie une fonction `comparer_codes` qui prend comme arguments deux tableaux de profit `4`, `code1` et `code2`, et renvoie deux variables, `bien_places` et `mal_places`, qui contiennent, respectivement, le nombre d'éléments de `code2` qui sont présents en `code1` dans la même position (c'est-à-dire `code2[i] == code1[i]`), et le nombre d'éléments de `code2` qui sont présents dans `code1`, mais pas dans la même position (c'est-à-dire `code2[i] == code1[j]` avec $j \\neq i$), conformément aux exemples ci-dessous :\n",
    "\n",
    "| `code1`        | `code2`        | `bien_places` | `mal_places` |\n",
    "|----------------|----------------|---------------|--------------|\n",
    "| `[4, 1, 6, 7]` | `[3, 9, 5, 3]` | `0`           | `0`          |\n",
    "| `[1, 2, 3, 4]` | `[4, 3, 2, 1]` | `0`           | `4`          |\n",
    "| `[1, 2, 2, 1]` | `[1, 2, 1, 2]` | `2`           | `2`          |\n",
    "| `[7, 9, 1, 3]` | `[7, 3, 1, 9]` | `2`           | `2`          |\n",
    "| `[6, 4, 5, 4]` | `[7, 4, 4, 3]` | `1`           | `1`          |\n",
    "| `[9, 9, 9, 8]` | `[9, 9, 7, 9]` | `2`           | `1`          |\n",
    "\n",
    "Tester votre code avec les exemples de ce tableau.\n",
    "\n",
    "_Remarque :_ Pour qu'une fonction `f()` renvoie _deux_ valeurs `val1` et `val2`, on peut utiliser l'instruction `return val1, val2`. Cela correspond à renvoyer un couple `(val1, val2)`. Pour affecter ces deux valeurs à deux variables `a` et `b` lors de l'appel de la fonction, on peut utiliser `a, b = f()`. Alternativement, on peut faire `a = f()`, et dans ce cas la variable `a` contiendra un couple, dont le premier élément peut être accédé par `a[0]` et le deuxième par `a[1]`.\n",
    "\n",
    "_Suggestion :_ Attention à ne pas compter plusieurs fois une même valeur. Lors de la comparaison entre `[2, 1, 1, 1]` et `[2, 2, 2, 2]`, par exemple, la fonction doit renvoyer `(1, 0)`, c'est-à-dire un chiffre bien placé et aucun mal placé. Pour éviter de prendre en compte un même chiffre plusieurs fois, on peut modifier les tableaux à chaque fois que l'on rencontre une paire de chiffres égaux, en les changeant en une valeur non-autorisée, par exemple `0`, pour marquer que ces chiffres ont déjà été pris en compte. Il faut commencer par chercher les paires bien placées avant de passer aux paires mal placées. Attention, ne modifiez pas directement `code1` et `code2` mais plutôt des copies de ces tableaux."
   ]
  },
  {
   "cell_type": "code",
   "execution_count": 5,
   "metadata": {},
   "outputs": [],
   "source": [
    "def comparer_codes(code1, code2):\n",
    "    bien_places = 0\n",
    "    mal_places = 0\n",
    "    for i in range(len(code1)):\n",
    "        if code1[i] == code2[i]:\n",
    "            bien_places += 1\n",
    "        elif code2[i] in code1:\n",
    "            mal_places += 1\n",
    "    return bien_places, mal_places"
   ]
  },
  {
   "cell_type": "markdown",
   "metadata": {},
   "source": [
    "## Exercice 4 : Implémentation de Mastermind\n",
    "\n",
    "Créer une fonction principale `mastermind` qui:\n",
    "* choisit un code aléatoire à l'aide de la fonction `code_aleatoire` ;\n",
    "* demande à l'utilisateur de saisir un code, à l'aide de la fonction `lire_code` ;\n",
    "* vérifie, à l'aide de la fonction `comparer_codes`, si le code donné par l'utilisateur est égal à celui choisi par l'ordinateur et, dans le cas négatif, indique à l'utilisateur combien de chiffres sont bien placés et combien de chiffres sont corrects mais mal placés ;\n",
    "* répète les appels à `lire_code` et `comparer_codes` jusqu'à ce que l'utilisateur trouve le bon code, le nombre maximal de tentatives soit atteint ou que l'utilisateur saisisse le code spécial pour quitter.\n",
    "\n",
    "Vous pouvez choisir le nombre maximal de tentatives à utiliser. À la sortie, votre fonction doit afficher le code choisi si celui-ci n'a pas été trouvé par l'utilisateur. Pour tester votre jeu, vous pouvez afficher le code choisi au début de l'exécution, mais n'oubliez pas de supprimer cet affichage pour la version finale !"
   ]
  },
  {
   "cell_type": "code",
   "execution_count": 6,
   "metadata": {},
   "outputs": [
    {
     "name": "stdout",
     "output_type": "stream",
     "text": [
      "Rentrez un code ou 'q' pour quitter le jeu: q\n"
     ]
    }
   ],
   "source": [
    "def mastermind():\n",
    "    code_jeu = code_aleatoire()\n",
    "    code_joueur = lire_code()\n",
    "    gagne = False\n",
    "    while(code_joueur != None and gagne == False):\n",
    "        bien_places, mal_places = comparer_codes(code_jeu, code_joueur)\n",
    "        if bien_places == 4:\n",
    "            gagne = True\n",
    "            print(\"Bien joué, vous avez battu le mestermind\")\n",
    "        else:\n",
    "            print(\"Bien placés: \", bien_places, \"\\nMal placés: \", mal_places)\n",
    "            code_joueur = lire_code()\n",
    "\n",
    "mastermind()"
   ]
  },
  {
   "cell_type": "markdown",
   "metadata": {},
   "source": [
    "## Exercice 5 : Pour aller plus loin (facultatif)\n",
    "\n",
    "L'objectif est maintenant de généraliser Mastermind au cas d'un code de plus de `4` caractères, avec des caractères choisis sur un autre ensemble que les chiffres de `1` à `9`. Refaire les exercices précédents en choisissant un code de `N` caractères parmi ceux d'une chaine de caractères `alphabet` (le cas précédent correspond à `N = 4` et `alphabet = '123456789'`). N'oubliez pas d'indiquer à l'utilisateur au début du jeu quels sont les caractères autorisés et la longueur du code, ainsi que le code spécial de sortie (qui ne doit pas être un code valable du jeu)."
   ]
  },
  {
   "cell_type": "code",
   "execution_count": 7,
   "metadata": {},
   "outputs": [],
   "source": [
    "N = 6\n",
    "alphabet = \"123456789ACBDEF\""
   ]
  },
  {
   "cell_type": "code",
   "execution_count": 17,
   "metadata": {},
   "outputs": [],
   "source": [
    "def code_aleatoire():\n",
    "    code = []\n",
    "    for i in range(N):\n",
    "        val = rd.randint(0, 14)\n",
    "        code.append(alphabet[val])\n",
    "    return code"
   ]
  },
  {
   "cell_type": "code",
   "execution_count": 18,
   "metadata": {},
   "outputs": [],
   "source": [
    "def lire_code():\n",
    "    code = input(\"Rentrez un code ou 'q' pour quitter le jeu: \")\n",
    "    if(code == \"q\"):\n",
    "        return None\n",
    "    else:\n",
    "        if(len(code) > N or len(code) < N):\n",
    "            print(\"Il faut entrer {0} caractères!!\".format(N))\n",
    "            return lire_code()\n",
    "        else:\n",
    "            code_ret = []\n",
    "            for i in range(len(code)):\n",
    "                if not (code[i] in alphabet):\n",
    "                    print(\"Votre chaine de caractère contient des caractères interdit\")\n",
    "                    return lire_code()\n",
    "                else:\n",
    "                    code_ret.append(code[i])\n",
    "            return code_ret"
   ]
  },
  {
   "cell_type": "code",
   "execution_count": 19,
   "metadata": {},
   "outputs": [],
   "source": [
    "def comparer_codes(code1, code2):\n",
    "    bien_places = 0\n",
    "    mal_places = 0\n",
    "    for i in range(len(code1)):\n",
    "        if code1[i] == code2[i]:\n",
    "            bien_places += 1\n",
    "        elif code2[i] in code1:\n",
    "            mal_places += 1\n",
    "    return bien_places, mal_places"
   ]
  },
  {
   "cell_type": "code",
   "execution_count": 20,
   "metadata": {},
   "outputs": [],
   "source": [
    "def mastermind():\n",
    "    code_jeu = code_aleatoire()\n",
    "    code_joueur = lire_code()\n",
    "    gagne = False\n",
    "    while(code_joueur != None and gagne == False):\n",
    "        bien_places, mal_places = comparer_codes(code_jeu, code_joueur)\n",
    "        if bien_places == N:\n",
    "            gagne = True\n",
    "            print(\"Bien joué, vous avez battu le mestermind\")\n",
    "        else:\n",
    "            print(\"Bien placés: \", bien_places, \"\\nMal placés: \", mal_places)\n",
    "            code_joueur = lire_code()"
   ]
  },
  {
   "cell_type": "code",
   "execution_count": 21,
   "metadata": {},
   "outputs": [
    {
     "name": "stdout",
     "output_type": "stream",
     "text": [
      "Rentrez un code ou 'q' pour quitter le jeu: 123456\n",
      "Bien placés:  0 \n",
      "Mal placés:  3\n",
      "Rentrez un code ou 'q' pour quitter le jeu: ABCDEF\n",
      "Bien placés:  0 \n",
      "Mal placés:  2\n",
      "Rentrez un code ou 'q' pour quitter le jeu: 456789\n",
      "Bien placés:  1 \n",
      "Mal placés:  0\n",
      "Rentrez un code ou 'q' pour quitter le jeu: 1234AB\n",
      "Bien placés:  0 \n",
      "Mal placés:  3\n",
      "Rentrez un code ou 'q' pour quitter le jeu: 234ABC\n",
      "Bien placés:  0 \n",
      "Mal placés:  4\n",
      "Rentrez un code ou 'q' pour quitter le jeu: 222222\n",
      "Bien placés:  1 \n",
      "Mal placés:  5\n",
      "Rentrez un code ou 'q' pour quitter le jeu: 121111\n",
      "Bien placés:  0 \n",
      "Mal placés:  1\n",
      "Rentrez un code ou 'q' pour quitter le jeu: 211111\n",
      "Bien placés:  0 \n",
      "Mal placés:  1\n",
      "Rentrez un code ou 'q' pour quitter le jeu: 112111\n",
      "Bien placés:  0 \n",
      "Mal placés:  1\n",
      "Rentrez un code ou 'q' pour quitter le jeu: 111121\n",
      "Bien placés:  1 \n",
      "Mal placés:  0\n",
      "Rentrez un code ou 'q' pour quitter le jeu: Q\n",
      "Il faut entrer 6 caractères!!\n",
      "Rentrez un code ou 'q' pour quitter le jeu: q\n"
     ]
    }
   ],
   "source": [
    "mastermind()"
   ]
  },
  {
   "cell_type": "code",
   "execution_count": null,
   "metadata": {},
   "outputs": [],
   "source": []
  }
 ],
 "metadata": {
  "anaconda-cloud": {},
  "kernelspec": {
   "display_name": "Python 3",
   "language": "python",
   "name": "python3"
  },
  "language_info": {
   "codemirror_mode": {
    "name": "ipython",
    "version": 3
   },
   "file_extension": ".py",
   "mimetype": "text/x-python",
   "name": "python",
   "nbconvert_exporter": "python",
   "pygments_lexer": "ipython3",
   "version": "3.7.4"
  }
 },
 "nbformat": 4,
 "nbformat_minor": 1
}
