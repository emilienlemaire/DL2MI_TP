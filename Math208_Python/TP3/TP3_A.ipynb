{
 "cells": [
  {
   "cell_type": "markdown",
   "metadata": {},
   "source": [
    "# Feuille de TP3 - Partie A : Manipulation de fonctions\n"
   ]
  },
  {
   "cell_type": "code",
   "execution_count": 1,
   "metadata": {
    "pycharm": {
     "is_executing": false
    }
   },
   "outputs": [],
   "source": [
    "# Import des modules\n",
    "import numpy as np"
   ]
  },
  {
   "cell_type": "markdown",
   "metadata": {},
   "source": [
    "**Attention :**\n",
    "+ On rappelle que les noms de fonctions **ne doivent pas commencer par &laquo;_&raquo; ni contenir de caractères accentués**.\n",
    "+ Les tableaux sont typées. Lorsque vous modifier un élément d'une matrice, si les types sont différents, une conversion a lieu qui peut parfois engendrer des bugs... Voici un exemple pour illustrer cela."
   ]
  },
  {
   "cell_type": "code",
   "execution_count": 40,
   "metadata": {
    "pycharm": {
     "is_executing": false
    }
   },
   "outputs": [
    {
     "name": "stdout",
     "text": [
      "[[1 2]\n [3 4]]\n[[1 2]\n [3 4]]\n<class 'numpy.ndarray'> <class 'numpy.int64'>\n[[1. 2.]\n [3. 4.]]\n[[1.5 2. ]\n [3.  4. ]]\n<class 'numpy.ndarray'> <class 'numpy.float64'>\n[[1. 2.]\n [3. 4.]]\n[[1.5 2. ]\n [3.  4. ]]\n<class 'numpy.ndarray'> <class 'numpy.float128'>\n"
     ],
     "output_type": "stream"
    }
   ],
   "source": [
    "A = np.array([[1,2], [3,4]])\n",
    "print(A)\n",
    "A[0,0] = 1.5 # 1.5 va être converti en entier !\n",
    "print(A)\n",
    "print(type(A), type(A[0,0]))\n",
    "A = np.array([[1.,2], [3,4]])\n",
    "print(A)\n",
    "A[0,0] = 1.5 # Pas de conversion\n",
    "print(A)\n",
    "print(type(A), type(A[0,0]))\n",
    "A = np.array([[1,2], [3,4]], dtype='float128')\n",
    "print(A)\n",
    "A[0,0] = 1.5\n",
    "print(A)\n",
    "print(type(A), type(A[0,0]))"
   ]
  },
  {
   "cell_type": "markdown",
   "metadata": {},
   "source": [
    "## Exercice 1 : Cryptographie basique : code de César (ou *Caesar cypher*)\n",
    "\n",
    "Le principe de ce code est de \"décaler\" les lettres. Par exemple, si la clef choisie est 1, la lettre A sera remplacée par B, la lettre B par C, etc. Nous nous proposons ici de fabriquer une fonction de cryptage et de décryptage pour la clef 13.\n",
    "\n",
    "#### a. <font color=red>Importer</font> le module `codecs` et tester les commandes `print(codecs.encode(\"abc\", \"rot+13\"))` et `print(codecs.encode(\"abc\", \"rot-13\"))` "
   ]
  },
  {
   "cell_type": "code",
   "execution_count": 4,
   "metadata": {
    "pycharm": {
     "is_executing": false
    }
   },
   "outputs": [
    {
     "name": "stdout",
     "text": [
      "nop\nabc\n"
     ],
     "output_type": "stream"
    }
   ],
   "source": [
    "import codecs\n",
    "print(codecs.encode(\"abc\", \"rot+13\"))\n",
    "print(codecs.encode(\"abc\", \"rot-13\"))"
   ]
  },
  {
   "cell_type": "markdown",
   "metadata": {},
   "source": [
    "Comparer avec les 14, 15 et $16^\\text{ème}$ lettres de l'alphabet. \n",
    "#### b. Proposer une fonction `crypter()` qui demande à l'utilisateur de saisir une chaîne de caractères et affiche sa version codée."
   ]
  },
  {
   "cell_type": "code",
   "execution_count": 8,
   "metadata": {
    "pycharm": {
     "is_executing": false
    }
   },
   "outputs": [],
   "source": [
    "# Mettre votre fonction ici\n",
    "def crypter():\n",
    "    \"\"\" Demande de saisir un message puis affiche sa version cryptée. \"\"\"\n",
    "    mes = input(\"Donner une phrase à coder: \")\n",
    "    print(codecs.encode(mes, \"rot+13\"))"
   ]
  },
  {
   "cell_type": "markdown",
   "metadata": {},
   "source": [
    "#### c. Ecrire une fonction `decrypter()`qui demande à l'utilisateur de saisir une chaîne de caractères encodée et affiche sa version décodée."
   ]
  },
  {
   "cell_type": "code",
   "execution_count": 11,
   "metadata": {
    "pycharm": {
     "is_executing": false
    }
   },
   "outputs": [],
   "source": [
    "def decrypt(mes):\n",
    "    print(codecs.encode(mes, \"rot-13\"))"
   ]
  },
  {
   "cell_type": "markdown",
   "metadata": {},
   "source": [
    "#### d.Tester la fonction \\verb+crypter()+ avec un message déjà crypté. Expliquer le résultat (indice : il y a 26 lettres dans l'alphabet).\n"
   ]
  },
  {
   "cell_type": "code",
   "execution_count": 16,
   "metadata": {
    "pycharm": {
     "is_executing": false
    }
   },
   "outputs": [
    {
     "name": "stdout",
     "text": [
      "abc\n"
     ],
     "output_type": "stream"
    }
   ],
   "source": [
    "crypter()\n"
   ]
  },
  {
   "cell_type": "markdown",
   "metadata": {},
   "source": [
    "## Exercice 2\n",
    "### Question 1\n",
    "A l'aide du module `numpy`, implémenter informatiquement la fonction $f : x \\mapsto \\sin(\\pi x)$."
   ]
  },
  {
   "cell_type": "code",
   "execution_count": 13,
   "metadata": {
    "pycharm": {
     "is_executing": false
    }
   },
   "outputs": [],
   "source": [
    "def sin(x):\n",
    "    return np.sin(np.pi * x)\n"
   ]
  },
  {
   "cell_type": "markdown",
   "metadata": {},
   "source": [
    "### Question 2\n",
    "Ecrire une fonction qui convertit une vitesse depuis des $km/h$ vers des miles par heure puis des noeuds. On rappelle que 1 mile = 1609 m et 1 noeud $= 0.514 m.s^{-1}$. "
   ]
  },
  {
   "cell_type": "code",
   "execution_count": 28,
   "metadata": {
    "pycharm": {
     "is_executing": false
    }
   },
   "outputs": [],
   "source": [
    "def miles_knots(kmh):\n",
    "    mph = float((kmh * 1000) * 1 / 1609)\n",
    "    knots = float((kmh / 3.6) * (1 / 0.514))\n",
    "    return mph, knots"
   ]
  },
  {
   "cell_type": "markdown",
   "metadata": {},
   "source": []
  },
  {
   "cell_type": "code",
   "execution_count": 29,
   "outputs": [
    {
     "name": "stdout",
     "text": [
      "(18.645121193287757, 16.212710765239947)\n"
     ],
     "output_type": "stream"
    }
   ],
   "source": [
    "print(miles_knots(30))"
   ],
   "metadata": {
    "collapsed": false,
    "pycharm": {
     "name": "#%%\n",
     "is_executing": false
    }
   }
  },
  {
   "cell_type": "markdown",
   "source": [
    "### Question 3\n",
    "\n",
    "   1. Ecrire une fonction qui prend en argument un tableau et renvoie un tableau de même taille rempli par le nombre décimal $3.0$ .\n",
    "   2. A l'aide de la fonction numpy`isscalar` écrire une fonction qui prend un argument \\verb+x+ et renvoie 3.0 si `x` est un scalaire et un tableau de 3.0 s'il s'agit d'un tableau."
   ],
   "metadata": {
    "collapsed": false,
    "pycharm": {
     "name": "#%% md\n"
    }
   }
  },
  {
   "cell_type": "code",
   "execution_count": 30,
   "metadata": {
    "pycharm": {
     "is_executing": false
    }
   },
   "outputs": [],
   "source": [
    "def conv_tab(x):\n",
    "    return np.ones(shape=x.shape) * 3.0\n",
    "\n",
    "def test_scalar(x):\n",
    "    if np.isscalar(x):\n",
    "        return 3.0\n",
    "    else:\n",
    "        return conv_tab(x)"
   ]
  },
  {
   "cell_type": "markdown",
   "metadata": {},
   "source": [
    "### Question 4\n",
    "L'aire d'un triangle peut être calculée à partir des coordonnées de ses trois sommets par la formule :\n",
    "\\begin{equation*}\n",
    " \t\\mathcal{A} = \\frac{1}{2}\\big\\vert (x_1 - x_3)(y_2-y_1)  - (x_1-x_2)(y_3 - y_1) \\big \\vert\n",
    "\\end{equation*}\n",
    "Ecrire une fonction qui prend comme argument un tableau bi-dimensionnel dont chaque ligne est la coordonnée $(x,y)$ d'un sommet et renvoie son aire."
   ]
  },
  {
   "cell_type": "code",
   "execution_count": 31,
   "metadata": {
    "pycharm": {
     "is_executing": false
    }
   },
   "outputs": [],
   "source": [
    "def aire(sommets):\n",
    "    return (1/2) * np.abs((sommets[0,0] - sommets[2,0]) * (sommets[1,1] - sommets[0,1]) - (sommets[0,0] - sommets[1,0])*(sommets[2,1] - sommets[0,1]))"
   ]
  },
  {
   "cell_type": "markdown",
   "metadata": {},
   "source": [
    "### Question 5\n",
    "Ecrire une fonction qui prend en argument un tableau et remplace ces coefficients strictement positif par $1$ et ses coefficients strictement négatifs par $-1$."
   ]
  },
  {
   "cell_type": "code",
   "execution_count": 32,
   "metadata": {
    "pycharm": {
     "is_executing": false
    }
   },
   "outputs": [],
   "source": [
    "def sign(x):\n",
    "    tab = [-1 if elt < 0 else (1 if elt > 0 else 0) for elt in x]\n",
    "    return tab"
   ]
  },
  {
   "cell_type": "markdown",
   "metadata": {},
   "source": [
    "## Exercice : comparaison de nombre flottants\n",
    "\n",
    "1. Importez le module \\verb!scipy.linalg! comme \\verb!slin!, définissez une matrice $A$ (si possible inversible) et un vecteur $u$. Calculez le déterminant de A, inversez la matrice, calculez $x=A^{-1}u$, puis calculez la norme de $Ax-u$. Comparer $Ax$ et $u$.\n",
    "2. Testez également la commande \\verb!allclose! pour comparer $Ax$ et $u$.\n",
    "3. Recommencez en résolvant le système linéaire par la commande \\verb!solve!."
   ]
  },
  {
   "cell_type": "code",
   "execution_count": 37,
   "metadata": {
    "pycharm": {
     "is_executing": false
    }
   },
   "outputs": [
    {
     "name": "stdout",
     "text": [
      "[[ 3  2  2]\n [ 5  6  7]\n [ 8  9 10]]\n[1 2 3]\n[[ 1.          0.66666667 -0.66666667]\n [-2.         -4.66666667  3.66666667]\n [ 1.          3.66666667 -2.66666667]]\n[ 0.33333333 -0.33333333  0.33333333]\n2.2644195468014703e-15\n[ True  True  True]\n"
     ],
     "output_type": "stream"
    }
   ],
   "source": [
    "import scipy.linalg as slin\n",
    "\n",
    "A = np.array([[3,2,2], [5,6,7], [8,9,10]])\n",
    "u = np.array([1,2,3])\n",
    "\n",
    "print(A)\n",
    "print(u)\n",
    "\n",
    "Ainv = slin.inv(A)\n",
    "\n",
    "print(Ainv)\n",
    "\n",
    "x = np.dot(slin.inv(A), u)\n",
    "\n",
    "print(x)\n",
    "\n",
    "print(slin.norm(np.dot(A, x) - u))\n",
    "print(np.dot(A,x) > u)"
   ]
  },
  {
   "cell_type": "code",
   "execution_count": 38,
   "metadata": {
    "pycharm": {
     "is_executing": false
    }
   },
   "outputs": [
    {
     "name": "stdout",
     "text": [
      "True\n"
     ],
     "output_type": "stream"
    }
   ],
   "source": [
    "print(np.allclose(np.dot(A,x), u))"
   ]
  },
  {
   "cell_type": "code",
   "execution_count": 39,
   "metadata": {
    "pycharm": {
     "is_executing": false
    }
   },
   "outputs": [
    {
     "name": "stdout",
     "text": [
      "[ 0.33333333 -0.33333333  0.33333333]\n"
     ],
     "output_type": "stream"
    }
   ],
   "source": [
    "print(slin.solve(A, u))"
   ]
  }
 ],
 "metadata": {
  "kernelspec": {
   "display_name": "Python 3",
   "language": "python",
   "name": "python3"
  },
  "language_info": {
   "codemirror_mode": {
    "name": "ipython",
    "version": 3
   },
   "file_extension": ".py",
   "mimetype": "text/x-python",
   "name": "python",
   "nbconvert_exporter": "python",
   "pygments_lexer": "ipython3",
   "version": "3.7.0"
  },
  "pycharm": {
   "stem_cell": {
    "cell_type": "raw",
    "source": [],
    "metadata": {
     "collapsed": false
    }
   }
  }
 },
 "nbformat": 4,
 "nbformat_minor": 2
}